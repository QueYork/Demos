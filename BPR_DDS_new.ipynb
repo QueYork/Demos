{
 "cells": [
  {
   "cell_type": "code",
   "execution_count": 1,
   "id": "ce33bdf0",
   "metadata": {},
   "outputs": [],
   "source": [
    "import pandas as pd\n",
    "import numpy as np\n",
    "import math\n",
    "import random\n",
    "from sklearn.model_selection import train_test_split"
   ]
  },
  {
   "cell_type": "code",
   "execution_count": 2,
   "id": "c3755360",
   "metadata": {},
   "outputs": [],
   "source": [
    "class BPR(object):\n",
    "    def __init__(self):\n",
    "        self.W = None             # user matrix\n",
    "        self.H = None             # item matrix\n",
    "        \n",
    "        self.Wsc = None        # scorer\n",
    "        self.Hsc = None \n",
    "        self.rating_exp = {}   # softmax sum\n",
    "        self.rating_exp_mul_H = {}\n",
    "        \n",
    "        self.uid = None            # uid,iid without duplicates\n",
    "        self.iid = None\n",
    "        \n",
    "        self.user_items = {}       # 用户u对应他访问过的所有items集合\n",
    "        self.dev_user_items = {}\n",
    "        \n",
    "        self.uid_dict = None      # serialize uid and iid\n",
    "        self.iid_dict = None      #  {(original id in dataset): (serial_idx)}\n",
    "        self.uid_dict_rev = None  # reverse key and value\n",
    "        self.iid_dict_rev = None  #  {(serial_idx): (original id in dataset)}\n",
    "\n",
    "    def _split(self, df, ratio):\n",
    "        train = pd.DataFrame(columns = df.columns, dtype=int)\n",
    "        test = pd.DataFrame(columns = df.columns, dtype=int)\n",
    "        for i in self.uid:\n",
    "            train_1, test_1 = train_test_split(df[df.iloc[:, 0] == i], train_size = ratio, shuffle = True, random_state = 5)\n",
    "            train = pd.concat([train, train_1])\n",
    "            test = pd.concat([test, test_1])\n",
    "        return train, test\n",
    "    \n",
    "    def split(self, df, train_size=0.8, test_size = 0.1):\n",
    "        self.uid = np.asarray(list(set(df.iloc[:,0].values)))\n",
    "        self.iid = np.asarray(list(set(df.iloc[:,1].values)))\n",
    "        self.uid.sort()\n",
    "        self.iid.sort()\n",
    "        self.uid_dict = dict(zip(self.uid, [i for i in range(len(self.uid))]))\n",
    "        self.iid_dict = dict(zip(self.iid, [i for i in range(len(self.iid))]))\n",
    "        self.uid_dict_rev = {v : k for k, v in self.uid_dict.items()}\n",
    "        self.iid_dict_rev = {v : k for k, v in self.iid_dict.items()}\n",
    "        train, test = self._split(df, train_size)\n",
    "        test, dev = self._split(test, test_size / (1 - train_size))\n",
    "        return train, test, dev\n",
    "    \n",
    "    def generate_train_batch(self, batch, sets):\n",
    "        train = []\n",
    "        for b in range(batch):\n",
    "            u = self.uid[random.randint(0, self.uid.size - 1)]\n",
    "            i = sets[u][random.randint(0, sets[u].size - 1)]\n",
    "            j = self.iid[random.randint(0, self.iid.size - 1)]\n",
    "            while j in sets[u]:\n",
    "                j = self.iid[random.randint(0, self.iid.size - 1)]\n",
    "            train.append([self.uid_dict[u], self.iid_dict[i], self.iid_dict[j]])\n",
    "        return np.asarray(train)   \n",
    "    \n",
    "    def scorer_prob(self, uid, iid):              # Softmax probability, uids, iids serial\n",
    "        if uid not in self.rating_exp.keys():\n",
    "            r = 0\n",
    "            h = 0\n",
    "            for i in self.user_items[self.uid_dict_rev[uid]]:\n",
    "                temp = np.exp(np.dot(self.Wsc[uid], self.Hsc[self.iid_dict[i]]))\n",
    "                r += temp\n",
    "                h += temp * self.Hsc[self.iid_dict[i]]\n",
    "            self.rating_exp[uid] = r\n",
    "            self.rating_exp_mul_H[uid] = h\n",
    "        \n",
    "        return np.exp(np.dot(self.Wsc[uid], self.Hsc[iid])) / self.rating_exp[uid]\n",
    "    \n",
    "    def fit_dds(self, df, dev, k, stepsize=0.05, regulation_rate=0.0001, max_iter=500, batch=10000):\n",
    "        self.W = np.random.rand(len(self.uid), k)*0.01      # 初始化 W，H\n",
    "        self.H = np.random.rand(len(self.iid), k)*0.01\n",
    "        self.Wsc = np.random.rand(len(self.uid), k)*0.01      # 初始化 scorer\n",
    "        self.Hsc = np.random.rand(len(self.iid), k)*0.01\n",
    "            \n",
    "        for u in self.uid:                                # 创建字典：用户u对应他访问过的所有items集合\n",
    "            self.user_items[u] = df[df.iloc[:, 0]==u].iloc[:, 1].values\n",
    "            self.dev_user_items[u] = dev[dev.iloc[:, 0]==u].iloc[:, 1].values     \n",
    "                            \n",
    "        for x in range(max_iter):             # Use stochastic gradient descent method to solve W & H\n",
    "            loss = 0\n",
    "            W_grad = np.zeros((len(self.uid), k))\n",
    "            H_grad = np.zeros((len(self.iid), k))\n",
    "            \n",
    "            uij = self.generate_train_batch(batch, self.user_items)\n",
    "            for u, i, j in uij:\n",
    "                \n",
    "                scorer = self.scorer_prob(u, i)\n",
    "                \n",
    "                xuij = np.dot(self.W[u], self.H[i]) - np.dot(self.W[u], self.H[j])\n",
    "                sigmoid = 1.0 / (1 + math.exp(xuij))\n",
    "                loss += -np.log(1.0/(1 + math.exp(-xuij)))\n",
    "                \n",
    "                # DDS\n",
    "                \n",
    "                W_grad[u] += scorer  * (sigmoid * (self.H[i] - self.H[j]) + regulation_rate * self.W[u])\n",
    "                H_grad[i] += scorer * (sigmoid * self.W[u] + regulation_rate * self.H[i])\n",
    "                H_grad[j] += scorer  * (-sigmoid * self.W[u] + regulation_rate * self.H[j])\n",
    "   \n",
    "            self.W += W_grad\n",
    "            self.H += H_grad\n",
    "            \n",
    "            W_grad_dev = np.zeros((len(self.uid), k))\n",
    "            H_grad_dev = np.zeros((len(self.iid), k))\n",
    "                \n",
    "            for u, i, j in self.generate_train_batch(5000, self.dev_user_items):\n",
    "                xuij = np.dot(self.W[u], self.H[i]) - np.dot(self.W[u], self.H[j])\n",
    "                sigmoid = 1.0 / (1 + math.exp(xuij))\n",
    "                W_grad_dev[u] += stepsize * (sigmoid * (self.H[i] - self.H[j]) + regulation_rate * self.W[u])\n",
    "                H_grad_dev[i] += stepsize * (sigmoid * self.W[u] + regulation_rate * self.H[i])\n",
    "                H_grad_dev[j] += stepsize * (-sigmoid * self.W[u] + regulation_rate * self.H[j])\n",
    "                \n",
    "            r_W = np.sum(W_grad * W_grad_dev, axis = 1)\n",
    "            r_H = np.sum(H_grad * H_grad_dev, axis = 1)\n",
    "            r_W = np.expand_dims(r_W, axis=0).repeat(k, axis = 0).T\n",
    "            r_H = np.expand_dims(r_H, axis=0).repeat(k, axis = 0).T\n",
    "\n",
    "            log_prob_W_grad = np.zeros((len(self.uid), k))\n",
    "            log_prob_H_grad = np.zeros((len(self.iid), k))\n",
    "            \n",
    "            for b in range(batch):\n",
    "                u = uij[b,0]\n",
    "                i = uij[b,1]\n",
    "                log_prob_W_grad[u] = self.Hsc[i] - self.rating_exp_mul_H[u] / self.rating_exp[u]\n",
    "                log_prob_H_grad[i] = self.Wsc[u]*(1 - self.scorer_prob(u,i))\n",
    "            self.Wsc += r_W * log_prob_W_grad\n",
    "            self.Hsc += r_H * log_prob_H_grad\n",
    "\n",
    "            self.rating_exp = {}\n",
    "            self.rating_exp_mul_H = {}\n",
    "            \n",
    "            if x == max_iter - 1:\n",
    "                print(f\"Iteration: {x+1}, BPR loss: {loss / batch}\")\n",
    "                \n",
    "    def fit_normal(self, df, k, stepsize=0.05, regulation_rate=0.0001, max_iter=500, batch=10000):\n",
    "        self.W = np.random.rand(len(self.uid), k)*0.01      # 初始化 W，H\n",
    "        self.H = np.random.rand(len(self.iid), k)*0.01\n",
    "        \n",
    "        for u in self.uid:                                # 创建字典：用户u对应他访问过的所有items集合\n",
    "            self.user_items[u] = df[df.iloc[:, 0]==u].iloc[:, 1].values\n",
    "                            \n",
    "        for x in range(max_iter):             # Use stochastic gradient descent method to solve W & H\n",
    "            loss = 0\n",
    "            for u, i, j in self.generate_train_batch(batch, self.user_items):\n",
    "                xuij = np.dot(self.W[u], self.H[i]) - np.dot(self.W[u], self.H[j])\n",
    "                sigmoid = 1.0 / (1 + math.exp(xuij))\n",
    "                loss += -np.log(1.0/(1 + math.exp(-xuij)))\n",
    "                self.W[u] += stepsize * (sigmoid * (self.H[i] - self.H[j]) + regulation_rate * self.W[u])\n",
    "                self.H[i] += stepsize * (sigmoid * self.W[u] + regulation_rate * self.H[i])\n",
    "                self.H[j] += stepsize * (-sigmoid * self.W[u] + regulation_rate * self.H[j])\n",
    "            if x == max_iter - 1:\n",
    "                print(f\"Iteration: {x+1}, BPR loss: {loss / batch}\")\n",
    "    \n",
    "    def _predict(self, uid, items, n):\n",
    "        top_N = []\n",
    "        \n",
    "        for i in range(len(items)):\n",
    "            user = self.uid_dict[uid]\n",
    "            item = self.iid_dict[items[i]]\n",
    "            top_N.append((items[i], np.dot(self.W[user], self.H[item])))\n",
    "                \n",
    "        return sorted(top_N, key=lambda s: s[1], reverse=True)[:n]\n",
    "    \n",
    "    def NDCG(self, uid, test, n):         # 用模型排序+真实分数计算 DCG, 重排后计算 iDCG\n",
    "        test_user = test[test.iloc[:, 0] == uid]\n",
    "        rating = self._predict(uid, test_user.iloc[:, 1].values, n)\n",
    "        irating =sorted(test_user.iloc[:, 2].values, reverse=True)\n",
    "        dcg = 0\n",
    "        idcg = 0\n",
    "        if n > len(irating): n = len(irating)  \n",
    "        for i in range(n):\n",
    "            r = test_user[test_user.iloc[:, 1]==rating[i][0]].iloc[0, 2]\n",
    "            dcg += 1.0*(2**r - 1)/math.log(i + 2, 2)\n",
    "            idcg += 1.0*(2**irating[i] - 1)/math.log(i + 2, 2)\n",
    "        return dcg/idcg\n",
    "    \n",
    "    def performance(self, test, n):      # Output recall@n, precision@n, NDCG@n\n",
    "        hit = 0\n",
    "        n_recall = 0\n",
    "        n_precision = 0\n",
    "        ndcg = 0\n",
    "        for i in self.uid:\n",
    "            # Items that User i hasn't tried in training set\n",
    "            unknown_items = np.setdiff1d(self.iid, self.user_items[i])\n",
    "            # Items that User i actually tried in testing set\n",
    "            known_items = test[test.iloc[:, 0]==i].iloc[:, 1].values\n",
    "            \n",
    "            #目标：预测 unknown items 中的top_N，若击中test中的items，则为有效预测\n",
    "            ru = self._predict(i, unknown_items, n)\n",
    "            for item ,pui in ru:\n",
    "                if item in known_items:\n",
    "                    hit += 1\n",
    "            n_recall += len(known_items)\n",
    "            n_precision += n\n",
    "            ndcg += self.NDCG(i, test, n)  \n",
    "            \n",
    "        recall = hit / (1.0 * n_recall)\n",
    "        precision = hit / (1.0 * n_precision)\n",
    "        ndcg /= len(self.uid)\n",
    "        return recall, precision, ndcg"
   ]
  },
  {
   "cell_type": "code",
   "execution_count": 3,
   "id": "319ffcc3",
   "metadata": {},
   "outputs": [],
   "source": [
    "df1 = pd.read_csv(\"./ml-100k/u.data\", sep=\"\\t\", names=['user id', 'item id', 'rating', 'timestamp'])\n",
    "df2 = pd.read_csv(\"./ml-1m/ratings.dat\", sep=\"::\", names=['user id', 'item id', 'rating', 'timestamp'], engine='python')"
   ]
  },
  {
   "cell_type": "markdown",
   "id": "0a2cdfb1",
   "metadata": {},
   "source": [
    "### 100K"
   ]
  },
  {
   "cell_type": "code",
   "execution_count": 4,
   "id": "da1781ca",
   "metadata": {
    "scrolled": true
   },
   "outputs": [
    {
     "name": "stdout",
     "output_type": "stream",
     "text": [
      "(79619, 4)\n",
      "(9942, 4)\n",
      "(10439, 4)\n"
     ]
    }
   ],
   "source": [
    "model1 = BPR()\n",
    "model2 = BPR()\n",
    "train1, test1, dev1 = model1.split(df1)\n",
    "train2, test2, dev2 = model2.split(df1)\n",
    "print(train1.shape)\n",
    "print(test1.shape)\n",
    "print(dev1.shape)"
   ]
  },
  {
   "cell_type": "markdown",
   "id": "4dd6257c",
   "metadata": {},
   "source": [
    "### 100K Pure BPR"
   ]
  },
  {
   "cell_type": "code",
   "execution_count": 5,
   "id": "800fb014",
   "metadata": {},
   "outputs": [
    {
     "name": "stdout",
     "output_type": "stream",
     "text": [
      "Iteration: 500, BPR loss: 0.054694487128717176\n"
     ]
    }
   ],
   "source": [
    "model1.fit_normal(train1, k = 50)"
   ]
  },
  {
   "cell_type": "code",
   "execution_count": 6,
   "id": "a8b0edbb",
   "metadata": {},
   "outputs": [
    {
     "name": "stdout",
     "output_type": "stream",
     "text": [
      "Precision@10: 0.13626723223753975\n",
      "Recall@10: 0.1292496479581573\n",
      "NDCG@10: 0.8197595966855103\n"
     ]
    }
   ],
   "source": [
    "n = 10\n",
    "rec, pre, ndcg = model1.performance(test1, n)\n",
    "print(f'Precision@{n}: {pre}')\n",
    "print(f'Recall@{n}: {rec}')\n",
    "print(f'NDCG@{n}: {ndcg}')"
   ]
  },
  {
   "cell_type": "markdown",
   "id": "01c89b40",
   "metadata": {},
   "source": [
    "### 100K BPR + Data Selection"
   ]
  },
  {
   "cell_type": "code",
   "execution_count": 7,
   "id": "4ba67c5d",
   "metadata": {},
   "outputs": [
    {
     "name": "stdout",
     "output_type": "stream",
     "text": [
      "Iteration: 500, BPR loss: 0.110238534522965\n"
     ]
    }
   ],
   "source": [
    "model2.fit_dds(train1, dev1, k = 50)"
   ]
  },
  {
   "cell_type": "code",
   "execution_count": 8,
   "id": "99a79464",
   "metadata": {
    "scrolled": true
   },
   "outputs": [
    {
     "name": "stdout",
     "output_type": "stream",
     "text": [
      "Precision@10: 0.16023329798515376\n",
      "Recall@10: 0.151981492657413\n",
      "NDCG@10: 0.8316703966743907\n"
     ]
    }
   ],
   "source": [
    "n = 10\n",
    "rec, pre, ndcg = model2.performance(test1, n)\n",
    "print(f'Precision@{n}: {pre}')\n",
    "print(f'Recall@{n}: {rec}')\n",
    "print(f'NDCG@{n}: {ndcg}')"
   ]
  },
  {
   "cell_type": "markdown",
   "id": "271c144c",
   "metadata": {},
   "source": [
    "### 1M"
   ]
  },
  {
   "cell_type": "code",
   "execution_count": 9,
   "id": "f23925bc",
   "metadata": {
    "scrolled": true
   },
   "outputs": [
    {
     "name": "stdout",
     "output_type": "stream",
     "text": [
      "(797758, 4)\n",
      "(99692, 4)\n",
      "(102759, 4)\n"
     ]
    }
   ],
   "source": [
    "model3 = BPR()\n",
    "model4 = BPR()\n",
    "train3, test3, dev3 = model3.split(df2)\n",
    "train4, test4, dev4 = model4.split(df2)\n",
    "print(train3.shape)\n",
    "print(test3.shape)\n",
    "print(dev3.shape)"
   ]
  },
  {
   "cell_type": "markdown",
   "id": "ac81560e",
   "metadata": {},
   "source": [
    "### 1M Pure BPR"
   ]
  },
  {
   "cell_type": "code",
   "execution_count": 12,
   "id": "c81b6e2e",
   "metadata": {},
   "outputs": [
    {
     "name": "stdout",
     "output_type": "stream",
     "text": [
      "Iteration: 500, BPR loss: 0.051887580848845184\n"
     ]
    }
   ],
   "source": [
    "model3.fit_normal(train3, k = 50)"
   ]
  },
  {
   "cell_type": "code",
   "execution_count": 14,
   "id": "c90fedb7",
   "metadata": {},
   "outputs": [
    {
     "name": "stdout",
     "output_type": "stream",
     "text": [
      "Precision@10: 0.1303287380699894\n",
      "Recall@10: 0.1236169784751559\n",
      "NDCG@10: 0.8148307094569092\n"
     ]
    }
   ],
   "source": [
    "n = 10\n",
    "rec, pre, ndcg = model3.performance(test3, n)\n",
    "print(f'Precision@{n}: {pre}')\n",
    "print(f'Recall@{n}: {rec}')\n",
    "print(f'NDCG@{n}: {ndcg}')"
   ]
  },
  {
   "cell_type": "markdown",
   "id": "6c5cb8ec",
   "metadata": {},
   "source": [
    "### 1M BPR + Data Selection"
   ]
  },
  {
   "cell_type": "code",
   "execution_count": 13,
   "id": "165c7ecd",
   "metadata": {},
   "outputs": [
    {
     "name": "stdout",
     "output_type": "stream",
     "text": [
      "Iteration: 500, BPR loss: 0.11402055514776264\n"
     ]
    }
   ],
   "source": [
    "model4.fit_dds(train3, dev3, k = 50)"
   ]
  },
  {
   "cell_type": "code",
   "execution_count": 15,
   "id": "94429980",
   "metadata": {},
   "outputs": [
    {
     "name": "stdout",
     "output_type": "stream",
     "text": [
      "Precision@10: 0.1610816542948038\n",
      "Recall@10: 0.15278615972641318\n",
      "NDCG@10: 0.8307697091757171\n"
     ]
    }
   ],
   "source": [
    "n = 10\n",
    "rec, pre, ndcg = model4.performance(test3, n)\n",
    "print(f'Precision@{n}: {pre}')\n",
    "print(f'Recall@{n}: {rec}')\n",
    "print(f'NDCG@{n}: {ndcg}')"
   ]
  }
 ],
 "metadata": {
  "kernelspec": {
   "display_name": "Python 3 (ipykernel)",
   "language": "python",
   "name": "python3"
  },
  "language_info": {
   "codemirror_mode": {
    "name": "ipython",
    "version": 3
   },
   "file_extension": ".py",
   "mimetype": "text/x-python",
   "name": "python",
   "nbconvert_exporter": "python",
   "pygments_lexer": "ipython3",
   "version": "3.9.12"
  }
 },
 "nbformat": 4,
 "nbformat_minor": 5
}
