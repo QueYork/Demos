{
 "cells": [
  {
   "cell_type": "code",
   "execution_count": 1,
   "id": "9436bf80",
   "metadata": {},
   "outputs": [],
   "source": [
    "import torch\n",
    "import pandas as pd\n",
    "import numpy as np\n",
    "import math\n",
    "import random\n",
    "from sklearn.model_selection import train_test_split"
   ]
  },
  {
   "cell_type": "code",
   "execution_count": 2,
   "id": "b123448b",
   "metadata": {},
   "outputs": [],
   "source": [
    "class BPR(object):\n",
    "    def __init__(self):\n",
    "        self.W = None             # user matrix\n",
    "        self.W_np = None\n",
    "        self.H = None             # item matrix\n",
    "        self.H_np = None\n",
    "        \n",
    "        self.uid = None            # uid,iid without duplicates\n",
    "        self.iid = None\n",
    "        \n",
    "        self.user_items = {}       # 用户u对应他访问过的所有items集合\n",
    "        \n",
    "        self.uid_dict = None      # serialize uid and iid\n",
    "        self.iid_dict = None      #  {(original id in dataset): (serial_idx)}\n",
    "        self.uid_dict_rev = None  # reverse key and value\n",
    "        self.iid_dict_rev = None  #  {(serial_idx): (original id in dataset)}\n",
    "        \n",
    "    def split(self, df, ratio=0.8):\n",
    "        self.uid = np.asarray(list(set(df.iloc[:,0].values)))\n",
    "        self.iid = np.asarray(list(set(df.iloc[:,1].values)))\n",
    "        self.uid.sort()\n",
    "        self.iid.sort()\n",
    "        \n",
    "        self.uid_dict = dict(zip(self.uid, [i for i in range(len(self.uid))]))\n",
    "        self.iid_dict = dict(zip(self.iid, [i for i in range(len(self.iid))]))\n",
    "        self.uid_dict_rev = {v : k for k, v in self.uid_dict.items()}\n",
    "        self.iid_dict_rev = {v : k for k, v in self.iid_dict.items()}\n",
    "        \n",
    "        train = pd.DataFrame(columns = df.columns, dtype=int)\n",
    "        test = pd.DataFrame(columns = df.columns, dtype=int)\n",
    "        for i in self.uid:\n",
    "            train_1, test_1 = train_test_split(df[df.iloc[:, 0] == i], train_size = ratio)\n",
    "            train = pd.concat([train, train_1])\n",
    "            test = pd.concat([test, test_1])\n",
    "        return train, test\n",
    "\n",
    "    def generate_train_batch(self, batch):\n",
    "        train = []\n",
    "        for b in range(batch):\n",
    "            u = self.uid[random.randint(0, self.uid.size - 1)]\n",
    "            i = self.user_items[u][random.randint(0, self.user_items[u].size - 1)]\n",
    "            j = self.iid[random.randint(0, self.iid.size - 1)]\n",
    "            while j in self.user_items[u]:\n",
    "                j = self.iid[random.randint(0, self.iid.size - 1)]\n",
    "            train.append([self.uid_dict[u], self.iid_dict[i], self.iid_dict[j]])\n",
    "        return np.asarray(train)   \n",
    "            \n",
    "    def fit(self, df, k, max_iter=5, batch=500):\n",
    "\n",
    "        self.W = torch.nn.Parameter(torch.rand(len(self.uid), k))      # 初始化 W，H\n",
    "        self.H = torch.nn.Parameter(torch.rand(len(self.iid), k))\n",
    "        optimizer = torch.optim.Adam([self.W, self.H])\n",
    "        \n",
    "        for u in self.uid:                                # 创建字典：用户u对应他访问过的所有items集合\n",
    "            self.user_items[u] = df[df.iloc[:, 0]==u].iloc[:, 1].values\n",
    "                            \n",
    "        for x in range(max_iter):             # Use stochastic gradient descent method to solve W & H\n",
    "            loss = 0\n",
    "            for batch_idx in range(batch):\n",
    "                uij = self.generate_train_batch(512)\n",
    "                u = torch.tensor(uij[:,0],dtype=torch.int64)\n",
    "                i = torch.tensor(uij[:,1],dtype=torch.int64)\n",
    "                j = torch.tensor(uij[:,2],dtype=torch.int64)\n",
    "                u_emb = self.W[u].cuda()\n",
    "                i_emb = self.H[i].cuda()\n",
    "                j_emb = self.H[j].cuda()\n",
    "                optimizer.zero_grad()\n",
    "                bprloss= -torch.mean(torch.log(torch.sigmoid(torch.sum(u_emb*(i_emb-j_emb),dim = 1)))).cuda()\n",
    "                bprloss.backward()\n",
    "                optimizer.step()\n",
    "                loss += bprloss\n",
    "                \n",
    "            print(f\"Iteration: {x+1}, BPR loss: {loss/batch}\")    \n",
    "        self.W_np = self.W.detach().numpy()\n",
    "        self.H_np = self.H.detach().numpy()\n",
    "    \n",
    "    def predict(self, user, n):      # Top-N recommendation\n",
    "        top_N = []\n",
    "        for i in self.iid:\n",
    "            if i not in self.user_items[user]:\n",
    "                top_N.append((i, np.dot(self.W_np[self.uid_dict[user]], self.H_np[self.iid_dict[i]]))) \n",
    "        return sorted(top_N, key=lambda s: s[1], reverse=True)[:n]\n",
    "    \n",
    "    def _predict(self, uid, items, n):\n",
    "        top_N = []\n",
    "        \n",
    "        for i in range(len(items)):\n",
    "            user = self.uid_dict[uid]\n",
    "            item = self.iid_dict[items[i]]\n",
    "            \n",
    "            top_N.append((items[i], np.dot(self.W_np[user], self.H_np[item])))\n",
    "                \n",
    "        return sorted(top_N, key=lambda s: s[1], reverse=True)[:n]\n",
    "    \n",
    "    def NDCG(self, uid, test, n):         # 用模型排序+真实分数计算 DCG, 重排后计算 iDCG\n",
    "        test_user = test[test.iloc[:, 0] == uid]\n",
    "        rating = self._predict(uid, test_user.iloc[:, 1].values, n)\n",
    "        irating =sorted(test_user.iloc[:, 2].values, reverse=True)\n",
    "        dcg = 0\n",
    "        idcg = 0\n",
    "        if n > len(irating): n = len(irating)  \n",
    "        for i in range(n):\n",
    "            r = test_user[test_user.iloc[:, 1]==rating[i][0]].iloc[0, 2]\n",
    "            dcg += 1.0*(2**r - 1)/math.log(i + 2, 2)\n",
    "            idcg += 1.0*(2**irating[i] - 1)/math.log(i + 2, 2)\n",
    "        return dcg/idcg\n",
    "    \n",
    "    def performance(self, test, n):      # Output recall@n, precision@n, NDCG@n\n",
    "        hit = 0\n",
    "        n_recall = 0\n",
    "        n_precision = 0\n",
    "        ndcg = 0\n",
    "        for i in self.uid:\n",
    "            # Items that User i hasn't tried in training set\n",
    "            unknown_items = np.setdiff1d(self.iid, self.user_items[i])\n",
    "            # Items that User i actually tried in testing set\n",
    "            known_items = test[test.iloc[:, 0]==i].iloc[:, 1].values\n",
    "            \n",
    "            #目标：预测 unknown items 中的top_N，若击中test中的items，则为有效预测\n",
    "            ru = self._predict(i, unknown_items, n)\n",
    "            for item ,pui in ru:\n",
    "                if item in known_items:\n",
    "                    hit += 1\n",
    "            n_recall += len(known_items)\n",
    "            n_precision += n\n",
    "            ndcg += self.NDCG(i, test, n)  \n",
    "            \n",
    "        recall = hit / (1.0 * n_recall)\n",
    "        precision = hit / (1.0 * n_precision)\n",
    "        ndcg /= len(self.uid)\n",
    "        return recall, precision, ndcg"
   ]
  },
  {
   "cell_type": "code",
   "execution_count": 3,
   "id": "ba9ccaf8",
   "metadata": {},
   "outputs": [],
   "source": [
    "df1 = pd.read_csv(\"./ml-100k/u.data\", sep=\"\\t\", names=['user id', 'item id', 'rating', 'timestamp'])\n",
    "df2 = pd.read_csv(\"./ml-1m/ratings.dat\", sep=\"::\", names=['user id', 'item id', 'rating', 'timestamp'], engine='python')"
   ]
  },
  {
   "cell_type": "code",
   "execution_count": 4,
   "id": "97de26f0",
   "metadata": {},
   "outputs": [
    {
     "name": "stdout",
     "output_type": "stream",
     "text": [
      "(79619, 4)\n",
      "(20381, 4)\n"
     ]
    }
   ],
   "source": [
    "model1 = BPR()\n",
    "train1, test1 = model1.split(df1)\n",
    "print(train1.shape)\n",
    "print(test1.shape)"
   ]
  },
  {
   "cell_type": "code",
   "execution_count": 5,
   "id": "e314c566",
   "metadata": {},
   "outputs": [
    {
     "name": "stdout",
     "output_type": "stream",
     "text": [
      "Iteration: 1, BPR loss: 0.4492400586605072\n",
      "Iteration: 2, BPR loss: 0.31252017617225647\n",
      "Iteration: 3, BPR loss: 0.28953057527542114\n",
      "Iteration: 4, BPR loss: 0.27078405022621155\n",
      "Iteration: 5, BPR loss: 0.2546299695968628\n"
     ]
    }
   ],
   "source": [
    "model1.fit(train1, k = 50)"
   ]
  },
  {
   "cell_type": "code",
   "execution_count": 6,
   "id": "c716248f",
   "metadata": {},
   "outputs": [
    {
     "name": "stdout",
     "output_type": "stream",
     "text": [
      "Precision@10: 0.15312831389183457\n",
      "Recall@10: 0.07085030175163143\n",
      "NDCG@10: 0.7456533643292313\n"
     ]
    }
   ],
   "source": [
    "n = 10\n",
    "rec, pre, ndcg = model1.performance(test1, n)\n",
    "print(f'Precision@{n}: {pre}')\n",
    "print(f'Recall@{n}: {rec}')\n",
    "print(f'NDCG@{n}: {ndcg}')"
   ]
  },
  {
   "cell_type": "code",
   "execution_count": 7,
   "id": "6bcb5637",
   "metadata": {},
   "outputs": [
    {
     "name": "stdout",
     "output_type": "stream",
     "text": [
      "(797758, 4)\n",
      "(202451, 4)\n"
     ]
    }
   ],
   "source": [
    "model2 = BPR()\n",
    "train2, test2 = model2.split(df2)\n",
    "print(train2.shape)\n",
    "print(test2.shape)"
   ]
  },
  {
   "cell_type": "code",
   "execution_count": 8,
   "id": "ae202dbf",
   "metadata": {},
   "outputs": [
    {
     "name": "stdout",
     "output_type": "stream",
     "text": [
      "Iteration: 1, BPR loss: 0.5501211285591125\n",
      "Iteration: 2, BPR loss: 0.37640511989593506\n",
      "Iteration: 3, BPR loss: 0.34165406227111816\n",
      "Iteration: 4, BPR loss: 0.3297494947910309\n",
      "Iteration: 5, BPR loss: 0.3230547308921814\n"
     ]
    }
   ],
   "source": [
    "model2.fit(train2, k = 20)"
   ]
  },
  {
   "cell_type": "code",
   "execution_count": 9,
   "id": "78f1de0e",
   "metadata": {},
   "outputs": [
    {
     "name": "stdout",
     "output_type": "stream",
     "text": [
      "Precision@10: 0.16690397350993377\n",
      "Recall@10: 0.049794765153049377\n",
      "NDCG@10: 0.7528015301756841\n"
     ]
    }
   ],
   "source": [
    "n = 10\n",
    "rec, pre, ndcg = model2.performance(test2, n)\n",
    "print(f'Precision@{n}: {pre}')\n",
    "print(f'Recall@{n}: {rec}')\n",
    "print(f'NDCG@{n}: {ndcg}')"
   ]
  }
 ],
 "metadata": {
  "kernelspec": {
   "display_name": "Python [conda env:anaconda]",
   "language": "python",
   "name": "conda-env-anaconda-py"
  },
  "language_info": {
   "codemirror_mode": {
    "name": "ipython",
    "version": 3
   },
   "file_extension": ".py",
   "mimetype": "text/x-python",
   "name": "python",
   "nbconvert_exporter": "python",
   "pygments_lexer": "ipython3",
   "version": "3.9.12"
  }
 },
 "nbformat": 4,
 "nbformat_minor": 5
}
