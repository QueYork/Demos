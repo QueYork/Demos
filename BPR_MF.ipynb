{
 "cells": [
  {
   "cell_type": "code",
   "execution_count": 1,
   "id": "ce33bdf0",
   "metadata": {},
   "outputs": [],
   "source": [
    "import pandas as pd\n",
    "import numpy as np\n",
    "import math\n",
    "from sklearn.model_selection import train_test_split"
   ]
  },
  {
   "cell_type": "code",
   "execution_count": 2,
   "id": "c3755360",
   "metadata": {},
   "outputs": [],
   "source": [
    "class BPR(object):\n",
    "    def __init__(self):\n",
    "        self.W = None             # user matrix\n",
    "        self.H = None             # item matrix\n",
    "        \n",
    "        self.uid = None            # uid,iid without duplicates\n",
    "        self.iid = None\n",
    "        \n",
    "        self.user_items = {}       # 用户u对应他访问过的所有items集合\n",
    "        \n",
    "        self.uid_dict = None      # serialize uid and iid\n",
    "        self.iid_dict = None      #  {(original id in dataset): (serial_idx)}\n",
    "        self.uid_dict_rev = None  # reverse key and value\n",
    "        self.iid_dict_rev = None  #  {(serial_idx): (original id in dataset)}\n",
    "        \n",
    "    def split(self, df, ratio=0.8):\n",
    "        self.uid = np.array(list(set(df.iloc[:,0].values)))\n",
    "        self.iid = np.array(list(set(df.iloc[:,1].values)))\n",
    "        self.uid.sort()\n",
    "        self.iid.sort()\n",
    "        \n",
    "        self.uid_dict = dict(zip(self.uid, [i for i in range(len(self.uid))]))\n",
    "        self.iid_dict = dict(zip(self.iid, [i for i in range(len(self.iid))]))\n",
    "        self.uid_dict_rev = {v : k for k, v in self.uid_dict.items()}\n",
    "        self.iid_dict_rev = {v : k for k, v in self.iid_dict.items()}\n",
    "        \n",
    "        train = pd.DataFrame(columns = df.columns, dtype=int)\n",
    "        test = pd.DataFrame(columns = df.columns, dtype=int)\n",
    "        for i in self.uid:\n",
    "            train_1, test_1 = train_test_split(df[df.iloc[:, 0] == i], train_size = ratio)\n",
    "            train = pd.concat([train, train_1])\n",
    "            test = pd.concat([test, test_1])\n",
    "        return train, test\n",
    "                            \n",
    "    def generate_train_batch(self, df, batch):\n",
    "        train = []\n",
    "        for b in range(batch):\n",
    "            u = np.random.choice(self.uid, size=1)[0]\n",
    "            i = np.random.choice(self.user_items[u], size=1)[0]\n",
    "            j = np.random.choice(self.iid, size=1)[0]\n",
    "            while j in self.user_items[u]:\n",
    "                j = np.random.choice(self.iid, size=1)[0]\n",
    "            train.append([self.uid_dict[u], self.iid_dict[i], self.iid_dict[j]])\n",
    "        return train            \n",
    "            \n",
    "    def fit(self, df, k, stepsize=0.05, regulation_rate=0.0001, max_iter=50, batch=10000):\n",
    "        self.W = np.random.rand(len(self.uid), k)*0.01      # 初始化 W，H\n",
    "        self.H = np.random.rand(len(self.iid), k)*0.01\n",
    "        \n",
    "        for u in self.uid:                                # 创建字典：用户u对应他访问过的所有items集合\n",
    "            self.user_items[u] = df[df.iloc[:, 0]==u].iloc[:, 1].values\n",
    "                            \n",
    "        for x in range(max_iter):             # Use stochastic gradient descent method to solve W & H\n",
    "            for u, i, j in self.generate_train_batch(df, batch):\n",
    "                xuij = np.dot(self.W[u], self.H[i]) - np.dot(self.W[u], self.H[j])\n",
    "                sigmoid = 1.0 / (1 + math.exp(xuij))\n",
    "                self.W[u] += stepsize * (sigmoid * (self.H[i] - self.H[j]) + regulation_rate * self.W[u])\n",
    "                self.H[i] += stepsize * (sigmoid * self.W[u] + regulation_rate * self.H[i])\n",
    "                self.H[j] += stepsize * (-sigmoid * self.W[u] + regulation_rate * self.H[j])\n",
    "    \n",
    "    def predict(self, user, n):      # Top-N recommendation\n",
    "        top_N = []\n",
    "        for i in self.iid:\n",
    "            if i not in self.user_items[user]:\n",
    "                top_N.append((i, np.dot(self.W[self.uid_dict[user]], self.H[self.iid_dict[i]]))) \n",
    "        return sorted(top_N, key=lambda s: s[1], reverse=True)[:n]\n",
    "    \n",
    "    def _predict(self, uid, items, n):\n",
    "        top_N = []\n",
    "        \n",
    "        for i in range(len(items)):\n",
    "            user = self.uid_dict[uid]\n",
    "            item = self.iid_dict[items[i]]\n",
    "            top_N.append((items[i], np.dot(self.W[user], self.H[item])))\n",
    "                \n",
    "        return sorted(top_N, key=lambda s: s[1], reverse=True)[:n]\n",
    "    \n",
    "    def NDCG(self, uid, test, n):         # 用模型排序+真实分数计算 DCG, 重排后计算 iDCG\n",
    "        test_user = test[test.iloc[:, 0] == uid]\n",
    "        rating = self._predict(uid, test_user.iloc[:, 1].values, n)\n",
    "        irating =sorted(test_user.iloc[:, 2].values, reverse=True)\n",
    "        dcg = 0\n",
    "        idcg = 0\n",
    "        if n > len(irating): n = len(irating)  \n",
    "        for i in range(n):\n",
    "            r = test_user[test_user.iloc[:, 1]==rating[i][0]].iloc[0, 2]\n",
    "            dcg += 1.0*(2**r - 1)/math.log(i + 2, 2)\n",
    "            idcg += 1.0*(2**irating[i] - 1)/math.log(i + 2, 2)\n",
    "        return dcg/idcg\n",
    "    \n",
    "    def performance(self, test, n):      # Output recall@n, precision@n, NDCG@n\n",
    "        hit = 0\n",
    "        n_recall = 0\n",
    "        n_precision = 0\n",
    "        ndcg = 0\n",
    "        for i in self.uid:\n",
    "            # Items that User i hasn't tried in training set\n",
    "            unknown_items = np.setdiff1d(self.iid, self.user_items[i])\n",
    "            # Items that User i actually tried in testing set\n",
    "            known_items = test[test.iloc[:, 0]==i].iloc[:, 1].values\n",
    "            \n",
    "            #目标：预测 unknown items 中的top_N，若击中test中的items，则为有效预测\n",
    "            ru = self._predict(i, unknown_items, n)\n",
    "            for item ,pui in ru:\n",
    "                if item in known_items:\n",
    "                    hit += 1\n",
    "            n_recall += len(known_items)\n",
    "            n_precision += n\n",
    "            ndcg += self.NDCG(i, test, n)  \n",
    "            \n",
    "        recall = hit / (1.0 * n_recall)\n",
    "        precision = hit / (1.0 * n_precision)\n",
    "        ndcg /= len(self.uid)\n",
    "        return recall, precision, ndcg"
   ]
  },
  {
   "cell_type": "code",
   "execution_count": 3,
   "id": "319ffcc3",
   "metadata": {},
   "outputs": [],
   "source": [
    "df1 = pd.read_csv(\"./ml-100k/u.data\", sep=\"\\t\", names=['user id', 'item id', 'rating', 'timestamp'])\n",
    "df2 = pd.read_csv(\"./ml-1m/ratings.dat\", sep=\"::\", names=['user id', 'item id', 'rating', 'timestamp'], engine='python')"
   ]
  },
  {
   "cell_type": "code",
   "execution_count": 4,
   "id": "da1781ca",
   "metadata": {},
   "outputs": [
    {
     "name": "stdout",
     "output_type": "stream",
     "text": [
      "(79619, 4)\n",
      "(20381, 4)\n"
     ]
    }
   ],
   "source": [
    "model1 = BPR()\n",
    "train1, test1 = model1.split(df1)\n",
    "print(train1.shape)\n",
    "print(test1.shape)"
   ]
  },
  {
   "cell_type": "code",
   "execution_count": 5,
   "id": "18ae2636",
   "metadata": {
    "scrolled": true
   },
   "outputs": [],
   "source": [
    "model1.fit(train1, k = 50)"
   ]
  },
  {
   "cell_type": "code",
   "execution_count": 6,
   "id": "99a79464",
   "metadata": {},
   "outputs": [
    {
     "name": "stdout",
     "output_type": "stream",
     "text": [
      "Precision@10: 0.20965005302226936\n",
      "Recall@10: 0.09700210980815466\n",
      "NDCG@10: 0.7427278425337906\n"
     ]
    }
   ],
   "source": [
    "n = 10\n",
    "rec, pre, ndcg = model1.performance(test1, n)\n",
    "print(f'Precision@{n}: {pre}')\n",
    "print(f'Recall@{n}: {rec}')\n",
    "print(f'NDCG@{n}: {ndcg}')"
   ]
  },
  {
   "cell_type": "code",
   "execution_count": 7,
   "id": "c8cd7874",
   "metadata": {},
   "outputs": [
    {
     "data": {
      "text/plain": [
       "[(50, 4.1779601320160555),\n",
       " (286, 3.9158527882569265),\n",
       " (288, 3.62384365113412),\n",
       " (294, 3.5630401003526204),\n",
       " (300, 3.3064255809675807)]"
      ]
     },
     "execution_count": 7,
     "metadata": {},
     "output_type": "execute_result"
    }
   ],
   "source": [
    "model1.predict(1, 5)"
   ]
  },
  {
   "cell_type": "code",
   "execution_count": 8,
   "id": "c9b0dc28",
   "metadata": {},
   "outputs": [
    {
     "name": "stdout",
     "output_type": "stream",
     "text": [
      "(797758, 4)\n",
      "(202451, 4)\n"
     ]
    }
   ],
   "source": [
    "model2 = BPR()\n",
    "train2, test2 = model2.split(df2)\n",
    "print(train2.shape)\n",
    "print(test2.shape)"
   ]
  },
  {
   "cell_type": "code",
   "execution_count": 9,
   "id": "c81813b5",
   "metadata": {},
   "outputs": [],
   "source": [
    "model2.fit(train2, k = 20)"
   ]
  },
  {
   "cell_type": "code",
   "execution_count": 10,
   "id": "6389e0cd",
   "metadata": {},
   "outputs": [
    {
     "name": "stdout",
     "output_type": "stream",
     "text": [
      "Precision@10: 0.17943708609271522\n",
      "Recall@10: 0.05353394154634949\n",
      "NDCG@10: 0.7572818308040425\n"
     ]
    }
   ],
   "source": [
    "n = 10\n",
    "rec, pre, ndcg = model2.performance(test2, n)\n",
    "print(f'Precision@{n}: {pre}')\n",
    "print(f'Recall@{n}: {rec}')\n",
    "print(f'NDCG@{n}: {ndcg}')"
   ]
  }
 ],
 "metadata": {
  "kernelspec": {
   "display_name": "Python 3 (ipykernel)",
   "language": "python",
   "name": "python3"
  },
  "language_info": {
   "codemirror_mode": {
    "name": "ipython",
    "version": 3
   },
   "file_extension": ".py",
   "mimetype": "text/x-python",
   "name": "python",
   "nbconvert_exporter": "python",
   "pygments_lexer": "ipython3",
   "version": "3.9.12"
  }
 },
 "nbformat": 4,
 "nbformat_minor": 5
}
