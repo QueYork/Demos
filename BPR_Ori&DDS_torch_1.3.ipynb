{
 "cells": [
  {
   "cell_type": "code",
   "execution_count": 1,
   "id": "ce33bdf0",
   "metadata": {},
   "outputs": [],
   "source": [
    "import torch\n",
    "import torch.nn as nn\n",
    "import torch.optim as optim\n",
    "import math\n",
    "import numpy as np\n",
    "import pandas as pd\n",
    "import random\n",
    "from sklearn.model_selection import train_test_split"
   ]
  },
  {
   "cell_type": "code",
   "execution_count": 31,
   "id": "c666ec5c",
   "metadata": {},
   "outputs": [],
   "source": [
    "class BPR(nn.Module):\n",
    "    def __init__(self):\n",
    "        super(BPR, self).__init__()\n",
    "        self.W = None             # user matrix\n",
    "        self.H = None             # item matrix\n",
    "        self.Wsc = None           # scorer\n",
    "        self.Hsc = None \n",
    "        \n",
    "        self.uid = None\n",
    "        self.iid = None\n",
    "        \n",
    "        self.user_items = {}\n",
    "        self.dev_user_items = {}\n",
    "        \n",
    "        self.rating_exp = None   # softmax sum\n",
    "        self.rating_exp_mul_H = None\n",
    "    \n",
    "    def preprocess(self, df, train_size=0.8, test_size=0.1):\n",
    "        df = df.rename(columns = {df.columns[0]: 'ori_uid', df.columns[1]: 'ori_iid', df.columns[2]: 'rating'})\n",
    "        \n",
    "        uid_map = pd.DataFrame({\"ori_uid\": np.asarray(list(set(df.iloc[:,0].values)))})\n",
    "        uid_map[\"serial_uid\"] = uid_map.index\n",
    "        iid_map = pd.DataFrame({\"ori_iid\": np.asarray(list(set(df.iloc[:,1].values)))})\n",
    "        iid_map[\"serial_iid\"] = iid_map.index\n",
    "        \n",
    "        self.uid = uid_map[\"serial_uid\"].values\n",
    "        self.iid = iid_map[\"serial_iid\"].values\n",
    "        \n",
    "        df = df.merge(uid_map, left_on = 'ori_uid', right_on = 'ori_uid', how=\"left\")\n",
    "        df = df.merge(iid_map, left_on = 'ori_iid', right_on = 'ori_iid', how=\"left\")\n",
    "        df = df[['serial_uid', 'serial_iid', 'rating']]\n",
    "        \n",
    "        train, test = self._split(df, train_size)\n",
    "        test, dev = self._split(test, test_size / (1 - train_size))\n",
    "        return train, test, dev\n",
    "    \n",
    "    def _split(self, df, ratio):\n",
    "        train = pd.DataFrame(columns = df.columns, dtype=int)\n",
    "        test = pd.DataFrame(columns = df.columns, dtype=int)\n",
    "        for i in self.uid:\n",
    "            train_1, test_1 = train_test_split(df[df.iloc[:, 0] == i], train_size = ratio, shuffle = True, random_state = 5)\n",
    "            train = pd.concat([train, train_1])\n",
    "            test = pd.concat([test, test_1])\n",
    "        return train, test\n",
    "    \n",
    "    def generate_train_batch(self, batch, sets):\n",
    "        train = []\n",
    "        for b in range(batch):\n",
    "            u = self.uid[np.random.randint(0, len(self.uid))]\n",
    "            i = sets[u][np.random.randint(0, len(sets[u]))]\n",
    "            j = self.iid[np.random.randint(0, len(self.iid))]\n",
    "            while j in sets[u]:\n",
    "                j = self.iid[np.random.randint(0, len(self.iid))]\n",
    "            train.append([u, i, j])\n",
    "        return np.asarray(train) \n",
    "\n",
    "    def forward(self, uids, iids, device):\n",
    "        self.rating_exp = torch.zeros(len(self.uid)).to(device)\n",
    "        self.rating_exp_mul_H = torch.zeros([len(self.uid), self.H.shape[1]]).to(device)\n",
    "        \n",
    "        # 处理 idx 得到 embedded Wu Hi\n",
    "        emb_idxs = [self.user_items[uid] for uid in uids]\n",
    "        item_emb = nn.utils.rnn.pad_sequence([self.Hsc[emb_idx] for emb_idx in emb_idxs], batch_first=True)\n",
    "        user_emb = self.Wsc[uids][:, None, :]\n",
    "        \n",
    "        # 计算批次内 user_item 得分\n",
    "        user_item_exp_sc = torch.sum(item_emb * user_emb, dim = -1)\n",
    "        mask = (user_item_exp_sc != 0).type(torch.float32)\n",
    "        # 取指数， mask 保证补 0 位还是 0\n",
    "        user_item_exp_sc = torch.exp(user_item_exp_sc) * mask\n",
    "        \n",
    "        # 计算指数和\n",
    "        self.rating_exp_mul_H[uids] = torch.sum(user_item_exp_sc.unsqueeze(2).repeat(1, 1, self.H.shape[1]) * item_emb, dim = 1)\n",
    "        self.rating_exp[uids] = torch.sum(user_item_exp_sc, dim = 1)\n",
    "        #返回 softmax probablilty of item i among user_items\n",
    "        return torch.exp(torch.sum(self.Wsc[uids] * self.Hsc[iids], dim = 1)) / self.rating_exp[uids]\n",
    "            \n",
    "    def fit_dds(self, df, dev, k, stepsize=0.05, max_iter=10, batch=10000):\n",
    "        device = torch.device(\"cuda:0\" if torch.cuda.is_available() else \"cpu\")\n",
    "        self.to(device)\n",
    "        \n",
    "        # 初始化 W，H\n",
    "        self.W = nn.Parameter(torch.rand(len(self.uid), k).to(device) * 0.01)   \n",
    "        self.H = nn.Parameter(torch.rand(len(self.iid), k).to(device) * 0.01) \n",
    "        \n",
    "        # 初始化 scorer\n",
    "        self.Wsc = torch.rand(len(self.uid), k).to(device) * 0.01    \n",
    "        self.Hsc = torch.rand(len(self.iid), k).to(device) * 0.01  \n",
    "        \n",
    "        # 创建字典：用户u对应他访问过的所有items集合    \n",
    "        self.user_items = df.groupby(df.columns[0])[df.columns[1]].apply(lambda x: np.array(x)).to_dict()\n",
    "        self.dev_user_items = dev.groupby(dev.columns[0])[dev.columns[1]].apply(lambda x: np.array(x)).to_dict()\n",
    "        \n",
    "        # 主模型优化器        \n",
    "        optimizer = optim.Adam([self.W, self.H], lr = stepsize)\n",
    "        \n",
    "        for x in range(max_iter):            \n",
    "            #取训练批次：uij三元组\n",
    "            uij = self.generate_train_batch(batch, self.user_items)\n",
    "            u = uij[:, 0]\n",
    "            i = uij[:, 1]\n",
    "            j = uij[:, 2]\n",
    "            u_emb = self.W[u]\n",
    "            i_emb = self.H[i]\n",
    "            j_emb = self.H[j]\n",
    "            \n",
    "            # 评分器概率分布，forward 返回 softmax 概率分布\n",
    "            score_prob = self.forward(u, i, device)     \n",
    "            \n",
    "            # 主模型参数更新\n",
    "            optimizer.zero_grad() \n",
    "            score_loss = -torch.mean(score_prob * torch.log(torch.sigmoid(torch.sum(u_emb * (i_emb-j_emb),dim = 1))))\n",
    "            bpr_loss = -torch.mean(torch.log(torch.sigmoid(torch.sum(u_emb * (i_emb - j_emb),dim = 1))))\n",
    "            score_loss.backward()\n",
    "            optimizer.step()\n",
    "\n",
    "            # 训练集上 W,H 的梯度\n",
    "            W_grad_sum = self.W.grad.clone()\n",
    "            H_grad_sum = self.H.grad.clone()\n",
    "            \n",
    "            # 对数概率分布下 Wsc, Hsc 梯度\n",
    "            log_prob_Wsc_grad = torch.zeros((len(self.uid), k)).to(device)\n",
    "            log_prob_Hsc_grad = torch.zeros((len(self.iid), k)).to(device)\n",
    "            log_prob_Wsc_grad[u] = self.Hsc[i] - self.rating_exp_mul_H[u] / self.rating_exp[u].unsqueeze(1).repeat(1, k)\n",
    "            log_prob_Hsc_grad[i] = self.Wsc[u] * ((1 - score_prob).unsqueeze(1).repeat(1, k))\n",
    "            \n",
    "            #取 dev uij三元组\n",
    "            uij = self.generate_train_batch(5000, self.dev_user_items)\n",
    "            u = uij[:, 0]\n",
    "            i = uij[:, 1]\n",
    "            j = uij[:, 2]\n",
    "            u_emb = self.W[u]\n",
    "            i_emb = self.H[i]\n",
    "            j_emb = self.H[j]\n",
    "            \n",
    "            # 计算 dev 集上 W,H 的梯度\n",
    "            optimizer.zero_grad()\n",
    "            dev_loss = -torch.mean(torch.log(torch.sigmoid(torch.sum(u_emb * (i_emb - j_emb),dim = 1))))\n",
    "            dev_loss.backward()\n",
    "            W_grad_dev_sum = self.W.grad.clone()    \n",
    "            H_grad_dev_sum = self.H.grad.clone()\n",
    "\n",
    "            # 计算 reward: reward 为 W,H 在训练集和 dev 集上的梯度积    \n",
    "            r_W = torch.sum(W_grad_sum * W_grad_dev_sum, dim=1)\n",
    "            r_H = torch.sum(H_grad_sum * H_grad_dev_sum, dim=1)\n",
    "            r_W = r_W.unsqueeze(1).repeat(1, k)\n",
    "            r_H = r_H.unsqueeze(1).repeat(1, k)\n",
    "\n",
    "            # Wsc，Hsc 更新\n",
    "            self.Wsc += r_W * log_prob_Wsc_grad\n",
    "            self.Hsc += r_H * log_prob_Hsc_grad\n",
    "\n",
    "            if ( x + 1 ) % 10 == 0:\n",
    "                print(f\"Iteration: {x+1}, BPR loss: {bpr_loss.item()}\")\n",
    "    \n",
    "    def fit_ori(self, df, k, stepsize=0.05, max_iter=10, batch=10000):\n",
    "        device = torch.device(\"cuda:0\" if torch.cuda.is_available() else \"cpu\")\n",
    "        self.to(device)\n",
    "        \n",
    "        self.W = nn.Parameter(torch.rand(len(self.uid), k).to(device) * 0.01)    # 初始化 W，H\n",
    "        self.H = nn.Parameter(torch.rand(len(self.iid), k).to(device) * 0.01)  \n",
    "        \n",
    "        # 创建字典：用户u对应他访问过的所有items集合\n",
    "        self.user_items = df.groupby(df.columns[0])[df.columns[1]].apply(lambda x: np.array(x)).to_dict()\n",
    "        \n",
    "        optimizer = optim.Adam([self.W, self.H], lr = stepsize)     # 主模型优化器\n",
    "        for x in range(max_iter):\n",
    "            #取训练批次：uij三元组\n",
    "            uij = self.generate_train_batch(batch, self.user_items)\n",
    "            \n",
    "            u = uij[:, 0]\n",
    "            i = uij[:, 1]\n",
    "            j = uij[:, 2]\n",
    "            u_emb = self.W[u]\n",
    "            i_emb = self.H[i]\n",
    "            j_emb = self.H[j]\n",
    "            \n",
    "            optimizer.zero_grad()\n",
    "            loss = -torch.mean(torch.log(torch.sigmoid(torch.sum(u_emb * (i_emb - j_emb),dim = 1))))\n",
    "            loss.backward()\n",
    "            optimizer.step()\n",
    "            \n",
    "            if ( x + 1 ) % 10 == 0:\n",
    "                print(f\"Iteration: {x+1}, BPR loss: {loss.item()}\")\n",
    "    \n",
    "    def _predict(self, uid, items, n):\n",
    "        scores = torch.mv(self.H[items], self.W[uid])\n",
    "        top_N = list(zip(items, scores.detach().cpu().numpy()))\n",
    "        return sorted(top_N, key=lambda s: s[1], reverse=True)[:n]\n",
    "\n",
    "    def NDCG(self, uid, test, n):         # 用模型排序+真实分数计算 DCG, 重排后计算 iDCG\n",
    "        test_user = test[test.iloc[:, 0] == uid]\n",
    "        rating = self._predict(uid, test_user.iloc[:, 1].values, n)\n",
    "        irating =sorted(test_user.iloc[:, 2].values, reverse=True)\n",
    "        dcg = 0\n",
    "        idcg = 0\n",
    "        if n > len(irating): n = len(irating)  \n",
    "        for i in range(n):\n",
    "            r = test_user[test_user.iloc[:, 1]==rating[i][0]].iloc[0, 2]\n",
    "            dcg += 1.0 * (2**r - 1) / math.log(i + 2, 2)\n",
    "            idcg += 1.0 * (2**irating[i] - 1) / math.log(i + 2, 2)\n",
    "        return dcg / idcg\n",
    "\n",
    "    def performance(self, test, n):      # Output recall@n, precision@n, NDCG@n\n",
    "        hit = 0\n",
    "        n_recall = 0\n",
    "        n_precision = 0\n",
    "        ndcg = 0\n",
    "        for i in self.uid:\n",
    "            # Items that User i hasn't tried in training set\n",
    "            unknown_items = np.setdiff1d(self.iid, self.user_items[i])\n",
    "            # Items that User i actually tried in testing set\n",
    "            known_items = test[test.iloc[:, 0] == i].iloc[:, 1].values\n",
    "            \n",
    "            #目标：预测 unknown items 中的top_N，若击中test中的items，则为有效预测\n",
    "            ru = self._predict(i, unknown_items, n)\n",
    "            for item, pui in ru:\n",
    "                if item in known_items:\n",
    "                    hit += 1\n",
    "            n_recall += len(known_items)\n",
    "            n_precision += n\n",
    "            ndcg += self.NDCG(i, test, n)\n",
    "            \n",
    "        recall = hit / (1.0 * n_recall)\n",
    "        precision = hit / (1.0 * n_precision)\n",
    "        ndcg /= len(self.uid)\n",
    "        return recall, precision, ndcg"
   ]
  },
  {
   "cell_type": "code",
   "execution_count": 32,
   "id": "319ffcc3",
   "metadata": {},
   "outputs": [],
   "source": [
    "df1 = pd.read_csv(\"./ml-100k/u.data\", sep=\"\\t\", names=['user id', 'item id', 'rating', 'timestamp'])\n",
    "df2 = pd.read_csv(\"./ml-1m/ratings.dat\", sep=\"::\", names=['user id', 'item id', 'rating', 'timestamp'], engine='python')"
   ]
  },
  {
   "cell_type": "markdown",
   "id": "0a2cdfb1",
   "metadata": {},
   "source": [
    "### 100K"
   ]
  },
  {
   "cell_type": "code",
   "execution_count": 33,
   "id": "da1781ca",
   "metadata": {
    "scrolled": true
   },
   "outputs": [
    {
     "name": "stdout",
     "output_type": "stream",
     "text": [
      "(79619, 3)\n",
      "(9942, 3)\n",
      "(10439, 3)\n"
     ]
    }
   ],
   "source": [
    "model1 = BPR()\n",
    "model2 = BPR()\n",
    "train1, test1, dev1 = model1.preprocess(df1)\n",
    "train2, test2, dev2 = model2.preprocess(df1)\n",
    "print(train1.shape)\n",
    "print(test1.shape)\n",
    "print(dev1.shape)"
   ]
  },
  {
   "cell_type": "markdown",
   "id": "5a055d2a",
   "metadata": {},
   "source": [
    "### 100K Pure BPR"
   ]
  },
  {
   "cell_type": "code",
   "execution_count": 34,
   "id": "e9403a3b",
   "metadata": {
    "scrolled": false
   },
   "outputs": [
    {
     "name": "stdout",
     "output_type": "stream",
     "text": [
      "Iteration: 10, BPR loss: 0.35907867550849915\n",
      "Iteration: 20, BPR loss: 0.29241839051246643\n",
      "Iteration: 30, BPR loss: 0.19593794643878937\n",
      "Iteration: 40, BPR loss: 0.14594796299934387\n",
      "Iteration: 50, BPR loss: 0.11505217105150223\n",
      "Iteration: 60, BPR loss: 0.10607009381055832\n",
      "Iteration: 70, BPR loss: 0.09738825261592865\n",
      "Iteration: 80, BPR loss: 0.09225741028785706\n",
      "Iteration: 90, BPR loss: 0.0905691608786583\n",
      "Iteration: 100, BPR loss: 0.08369959890842438\n",
      "Iteration: 110, BPR loss: 0.07420985400676727\n",
      "Iteration: 120, BPR loss: 0.08428747206926346\n",
      "Iteration: 130, BPR loss: 0.07730655372142792\n",
      "Iteration: 140, BPR loss: 0.07966216653585434\n",
      "Iteration: 150, BPR loss: 0.0803600400686264\n",
      "Iteration: 160, BPR loss: 0.08221800625324249\n",
      "Iteration: 170, BPR loss: 0.07546325773000717\n",
      "Iteration: 180, BPR loss: 0.07798565924167633\n",
      "Iteration: 190, BPR loss: 0.0717773512005806\n",
      "Iteration: 200, BPR loss: 0.08163510262966156\n",
      "Iteration: 210, BPR loss: 0.06831411272287369\n",
      "Iteration: 220, BPR loss: 0.07331632822751999\n",
      "Iteration: 230, BPR loss: 0.06782440841197968\n",
      "Iteration: 240, BPR loss: 0.07599127292633057\n",
      "Iteration: 250, BPR loss: 0.08729276806116104\n",
      "Iteration: 260, BPR loss: 0.07016255706548691\n",
      "Iteration: 270, BPR loss: 0.0648488700389862\n",
      "Iteration: 280, BPR loss: 0.07519911974668503\n",
      "Iteration: 290, BPR loss: 0.07128720730543137\n",
      "Iteration: 300, BPR loss: 0.07443566620349884\n",
      "Iteration: 310, BPR loss: 0.07175898551940918\n",
      "Iteration: 320, BPR loss: 0.07750581949949265\n",
      "Iteration: 330, BPR loss: 0.07535240054130554\n",
      "Iteration: 340, BPR loss: 0.06855010241270065\n",
      "Iteration: 350, BPR loss: 0.07227515429258347\n",
      "Iteration: 360, BPR loss: 0.08522487431764603\n",
      "Iteration: 370, BPR loss: 0.07261844724416733\n",
      "Iteration: 380, BPR loss: 0.07431504875421524\n",
      "Iteration: 390, BPR loss: 0.07256653904914856\n",
      "Iteration: 400, BPR loss: 0.07502427697181702\n",
      "Iteration: 410, BPR loss: 0.07235170900821686\n",
      "Iteration: 420, BPR loss: 0.0782015472650528\n",
      "Iteration: 430, BPR loss: 0.07708006352186203\n",
      "Iteration: 440, BPR loss: 0.07143373787403107\n",
      "Iteration: 450, BPR loss: 0.07258390635251999\n",
      "Iteration: 460, BPR loss: 0.06436029821634293\n",
      "Iteration: 470, BPR loss: 0.07057018578052521\n",
      "Iteration: 480, BPR loss: 0.06930798292160034\n",
      "Iteration: 490, BPR loss: 0.08568360656499863\n",
      "Iteration: 500, BPR loss: 0.07732998579740524\n",
      "CPU times: total: 16.8 s\n",
      "Wall time: 54.3 s\n"
     ]
    }
   ],
   "source": [
    "%%time\n",
    "model1.fit_ori(train1, k = 50, max_iter = 500)"
   ]
  },
  {
   "cell_type": "code",
   "execution_count": 35,
   "id": "fb56a5c8",
   "metadata": {},
   "outputs": [
    {
     "name": "stdout",
     "output_type": "stream",
     "text": [
      "Precision@10: 0.10349946977730647\n",
      "Recall@10: 0.09816938241802455\n",
      "NDCG@10: 0.814158824522263\n",
      "CPU times: total: 1.12 s\n",
      "Wall time: 7.03 s\n"
     ]
    }
   ],
   "source": [
    "%%time\n",
    "n = 10\n",
    "rec, pre, ndcg = model1.performance(test1, n)\n",
    "print(f'Precision@{n}: {pre}')\n",
    "print(f'Recall@{n}: {rec}')\n",
    "print(f'NDCG@{n}: {ndcg}')"
   ]
  },
  {
   "cell_type": "markdown",
   "id": "a41f9423",
   "metadata": {},
   "source": [
    "### 100K BPR + Data Selection"
   ]
  },
  {
   "cell_type": "code",
   "execution_count": 36,
   "id": "bd574457",
   "metadata": {
    "scrolled": false
   },
   "outputs": [
    {
     "name": "stdout",
     "output_type": "stream",
     "text": [
      "Iteration: 10, BPR loss: 0.3803184926509857\n",
      "Iteration: 20, BPR loss: 0.3314809501171112\n",
      "Iteration: 30, BPR loss: 0.2436031699180603\n",
      "Iteration: 40, BPR loss: 0.17997539043426514\n",
      "Iteration: 50, BPR loss: 0.14365018904209137\n",
      "Iteration: 60, BPR loss: 0.12491317838430405\n",
      "Iteration: 70, BPR loss: 0.11809155344963074\n",
      "Iteration: 80, BPR loss: 0.10486166924238205\n",
      "Iteration: 90, BPR loss: 0.10104092210531235\n",
      "Iteration: 100, BPR loss: 0.09145385026931763\n",
      "Iteration: 110, BPR loss: 0.09267401695251465\n",
      "Iteration: 120, BPR loss: 0.0865040123462677\n",
      "Iteration: 130, BPR loss: 0.08485382050275803\n",
      "Iteration: 140, BPR loss: 0.08415254205465317\n",
      "Iteration: 150, BPR loss: 0.07580564171075821\n",
      "Iteration: 160, BPR loss: 0.08282128721475601\n",
      "Iteration: 170, BPR loss: 0.07823418825864792\n",
      "Iteration: 180, BPR loss: 0.07973141968250275\n",
      "Iteration: 190, BPR loss: 0.08139986544847488\n",
      "Iteration: 200, BPR loss: 0.07852071523666382\n",
      "Iteration: 210, BPR loss: 0.07658043503761292\n",
      "Iteration: 220, BPR loss: 0.0756540298461914\n",
      "Iteration: 230, BPR loss: 0.08656095713376999\n",
      "Iteration: 240, BPR loss: 0.08279627561569214\n",
      "Iteration: 250, BPR loss: 0.07515875995159149\n",
      "Iteration: 260, BPR loss: 0.07816963642835617\n",
      "Iteration: 270, BPR loss: 0.07850802689790726\n",
      "Iteration: 280, BPR loss: 0.08465772122144699\n",
      "Iteration: 290, BPR loss: 0.07648903876543045\n",
      "Iteration: 300, BPR loss: 0.07811909914016724\n",
      "Iteration: 310, BPR loss: 0.0755556970834732\n",
      "Iteration: 320, BPR loss: 0.08014355599880219\n",
      "Iteration: 330, BPR loss: 0.08273398131132126\n",
      "Iteration: 340, BPR loss: 0.0938563197851181\n",
      "Iteration: 350, BPR loss: 0.0801951065659523\n",
      "Iteration: 360, BPR loss: 0.07670295238494873\n",
      "Iteration: 370, BPR loss: 0.09566847234964371\n",
      "Iteration: 380, BPR loss: 0.08084516227245331\n",
      "Iteration: 390, BPR loss: 0.0788879320025444\n",
      "Iteration: 400, BPR loss: 0.09487102180719376\n",
      "Iteration: 410, BPR loss: 0.08601005375385284\n",
      "Iteration: 420, BPR loss: 0.08079936355352402\n",
      "Iteration: 430, BPR loss: 0.09320368617773056\n",
      "Iteration: 440, BPR loss: 0.079317606985569\n",
      "Iteration: 450, BPR loss: 0.08796779811382294\n",
      "Iteration: 460, BPR loss: 0.08673438429832458\n",
      "Iteration: 470, BPR loss: 0.08975166082382202\n",
      "Iteration: 480, BPR loss: 0.08598902821540833\n",
      "Iteration: 490, BPR loss: 0.08739089220762253\n",
      "Iteration: 500, BPR loss: 0.08962071686983109\n",
      "CPU times: total: 1min 1s\n",
      "Wall time: 4min 41s\n"
     ]
    }
   ],
   "source": [
    "%%time\n",
    "model2.fit_dds(train1, dev1, k = 50, max_iter = 500)"
   ]
  },
  {
   "cell_type": "code",
   "execution_count": 37,
   "id": "a8b0edbb",
   "metadata": {},
   "outputs": [
    {
     "name": "stdout",
     "output_type": "stream",
     "text": [
      "Precision@10: 0.10615058324496289\n",
      "Recall@10: 0.10068396700865018\n",
      "NDCG@10: 0.8138484325556239\n",
      "CPU times: total: 641 ms\n",
      "Wall time: 2.04 s\n"
     ]
    }
   ],
   "source": [
    "%%time\n",
    "n = 10\n",
    "rec, pre, ndcg = model2.performance(test1, n)\n",
    "print(f'Precision@{n}: {pre}')\n",
    "print(f'Recall@{n}: {rec}')\n",
    "print(f'NDCG@{n}: {ndcg}')"
   ]
  },
  {
   "cell_type": "markdown",
   "id": "271c144c",
   "metadata": {},
   "source": [
    "### 1M"
   ]
  },
  {
   "cell_type": "code",
   "execution_count": 38,
   "id": "f23925bc",
   "metadata": {
    "scrolled": true
   },
   "outputs": [
    {
     "name": "stdout",
     "output_type": "stream",
     "text": [
      "(797758, 3)\n",
      "(99692, 3)\n",
      "(102759, 3)\n"
     ]
    }
   ],
   "source": [
    "model3 = BPR()\n",
    "model4 = BPR()\n",
    "train3, test3, dev3 = model3.preprocess(df2)\n",
    "train4, test4, dev4 = model4.preprocess(df2)\n",
    "print(train3.shape)\n",
    "print(test3.shape)\n",
    "print(dev3.shape)"
   ]
  },
  {
   "cell_type": "markdown",
   "id": "88834487",
   "metadata": {},
   "source": [
    "### 1M Pure BPR"
   ]
  },
  {
   "cell_type": "code",
   "execution_count": 39,
   "id": "c81b6e2e",
   "metadata": {},
   "outputs": [
    {
     "name": "stdout",
     "output_type": "stream",
     "text": [
      "Iteration: 10, BPR loss: 0.3754083514213562\n",
      "Iteration: 20, BPR loss: 0.381619393825531\n",
      "Iteration: 30, BPR loss: 0.3569476902484894\n",
      "Iteration: 40, BPR loss: 0.34104621410369873\n",
      "Iteration: 50, BPR loss: 0.32315343618392944\n",
      "Iteration: 60, BPR loss: 0.31233617663383484\n",
      "Iteration: 70, BPR loss: 0.2830395996570587\n",
      "Iteration: 80, BPR loss: 0.27295058965682983\n",
      "Iteration: 90, BPR loss: 0.25953519344329834\n",
      "Iteration: 100, BPR loss: 0.2350631058216095\n",
      "Iteration: 110, BPR loss: 0.2118961364030838\n",
      "Iteration: 120, BPR loss: 0.2172245979309082\n",
      "Iteration: 130, BPR loss: 0.21276317536830902\n",
      "Iteration: 140, BPR loss: 0.20478075742721558\n",
      "Iteration: 150, BPR loss: 0.19854378700256348\n",
      "Iteration: 160, BPR loss: 0.2073565423488617\n",
      "Iteration: 170, BPR loss: 0.20717592537403107\n",
      "Iteration: 180, BPR loss: 0.18923752009868622\n",
      "Iteration: 190, BPR loss: 0.1915675401687622\n",
      "Iteration: 200, BPR loss: 0.18511264026165009\n",
      "Iteration: 210, BPR loss: 0.1853107064962387\n",
      "Iteration: 220, BPR loss: 0.18176881968975067\n",
      "Iteration: 230, BPR loss: 0.18276554346084595\n",
      "Iteration: 240, BPR loss: 0.19015216827392578\n",
      "Iteration: 250, BPR loss: 0.1914139688014984\n",
      "Iteration: 260, BPR loss: 0.19027014076709747\n",
      "Iteration: 270, BPR loss: 0.17697113752365112\n",
      "Iteration: 280, BPR loss: 0.18844906985759735\n",
      "Iteration: 290, BPR loss: 0.18323871493339539\n",
      "Iteration: 300, BPR loss: 0.18393127620220184\n",
      "Iteration: 310, BPR loss: 0.1893509477376938\n",
      "Iteration: 320, BPR loss: 0.1961946189403534\n",
      "Iteration: 330, BPR loss: 0.17527148127555847\n",
      "Iteration: 340, BPR loss: 0.1757328361272812\n",
      "Iteration: 350, BPR loss: 0.17301277816295624\n",
      "Iteration: 360, BPR loss: 0.1850251704454422\n",
      "Iteration: 370, BPR loss: 0.17970171570777893\n",
      "Iteration: 380, BPR loss: 0.18250420689582825\n",
      "Iteration: 390, BPR loss: 0.17452697455883026\n",
      "Iteration: 400, BPR loss: 0.17181479930877686\n",
      "Iteration: 410, BPR loss: 0.19962896406650543\n",
      "Iteration: 420, BPR loss: 0.17557844519615173\n",
      "Iteration: 430, BPR loss: 0.18366611003875732\n",
      "Iteration: 440, BPR loss: 0.16757328808307648\n",
      "Iteration: 450, BPR loss: 0.18186190724372864\n",
      "Iteration: 460, BPR loss: 0.17442116141319275\n",
      "Iteration: 470, BPR loss: 0.17749647796154022\n",
      "Iteration: 480, BPR loss: 0.1853061467409134\n",
      "Iteration: 490, BPR loss: 0.16859455406665802\n",
      "Iteration: 500, BPR loss: 0.1717338114976883\n",
      "CPU times: total: 19.6 s\n",
      "Wall time: 36 s\n"
     ]
    }
   ],
   "source": [
    "%%time\n",
    "model3.fit_ori(train3, k = 20, max_iter = 500)"
   ]
  },
  {
   "cell_type": "code",
   "execution_count": 40,
   "id": "c90fedb7",
   "metadata": {},
   "outputs": [
    {
     "name": "stdout",
     "output_type": "stream",
     "text": [
      "Precision@10: 0.10697019867549669\n",
      "Recall@10: 0.06480961360991855\n",
      "NDCG@10: 0.7990015927015258\n",
      "CPU times: total: 6.41 s\n",
      "Wall time: 17.8 s\n"
     ]
    }
   ],
   "source": [
    "%%time\n",
    "n = 10\n",
    "rec, pre, ndcg = model3.performance(test3, n)\n",
    "print(f'Precision@{n}: {pre}')\n",
    "print(f'Recall@{n}: {rec}')\n",
    "print(f'NDCG@{n}: {ndcg}')"
   ]
  },
  {
   "cell_type": "markdown",
   "id": "920468ea",
   "metadata": {},
   "source": [
    "### 1M BPR + Data Selection"
   ]
  },
  {
   "cell_type": "code",
   "execution_count": 41,
   "id": "135c4284",
   "metadata": {},
   "outputs": [
    {
     "name": "stdout",
     "output_type": "stream",
     "text": [
      "Iteration: 10, BPR loss: 0.410556823015213\n",
      "Iteration: 20, BPR loss: 0.3687320053577423\n",
      "Iteration: 30, BPR loss: 0.3714205324649811\n",
      "Iteration: 40, BPR loss: 0.35557058453559875\n",
      "Iteration: 50, BPR loss: 0.3410336673259735\n",
      "Iteration: 60, BPR loss: 0.32621532678604126\n",
      "Iteration: 70, BPR loss: 0.31507599353790283\n",
      "Iteration: 80, BPR loss: 0.2985517978668213\n",
      "Iteration: 90, BPR loss: 0.2722259759902954\n",
      "Iteration: 100, BPR loss: 0.26787757873535156\n",
      "Iteration: 110, BPR loss: 0.24591214954853058\n",
      "Iteration: 120, BPR loss: 0.24201327562332153\n",
      "Iteration: 130, BPR loss: 0.2360617071390152\n",
      "Iteration: 140, BPR loss: 0.22995702922344208\n",
      "Iteration: 150, BPR loss: 0.20491468906402588\n",
      "Iteration: 160, BPR loss: 0.22022663056850433\n",
      "Iteration: 170, BPR loss: 0.20099157094955444\n",
      "Iteration: 180, BPR loss: 0.21964798867702484\n",
      "Iteration: 190, BPR loss: 0.20061607658863068\n",
      "Iteration: 200, BPR loss: 0.20826725661754608\n",
      "Iteration: 210, BPR loss: 0.2060583382844925\n",
      "Iteration: 220, BPR loss: 0.2017163783311844\n",
      "Iteration: 230, BPR loss: 0.20237699151039124\n",
      "Iteration: 240, BPR loss: 0.18149779736995697\n",
      "Iteration: 250, BPR loss: 0.2054920792579651\n",
      "Iteration: 260, BPR loss: 0.19611035287380219\n",
      "Iteration: 270, BPR loss: 0.19703201949596405\n",
      "Iteration: 280, BPR loss: 0.18488307297229767\n",
      "Iteration: 290, BPR loss: 0.20043885707855225\n",
      "Iteration: 300, BPR loss: 0.21459360420703888\n",
      "Iteration: 310, BPR loss: 0.20045380294322968\n",
      "Iteration: 320, BPR loss: 0.19467446208000183\n",
      "Iteration: 330, BPR loss: 0.20787543058395386\n",
      "Iteration: 340, BPR loss: 0.20208510756492615\n",
      "Iteration: 350, BPR loss: 0.19472087919712067\n",
      "Iteration: 360, BPR loss: 0.2105366587638855\n",
      "Iteration: 370, BPR loss: 0.2126360535621643\n",
      "Iteration: 380, BPR loss: 0.20835112035274506\n",
      "Iteration: 390, BPR loss: 0.20636458694934845\n",
      "Iteration: 400, BPR loss: 0.19483622908592224\n",
      "Iteration: 410, BPR loss: 0.19819825887680054\n",
      "Iteration: 420, BPR loss: 0.20346251130104065\n",
      "Iteration: 430, BPR loss: 0.20438732206821442\n",
      "Iteration: 440, BPR loss: 0.19586464762687683\n",
      "Iteration: 450, BPR loss: 0.20432522892951965\n",
      "Iteration: 460, BPR loss: 0.19835539162158966\n",
      "Iteration: 470, BPR loss: 0.20036347210407257\n",
      "Iteration: 480, BPR loss: 0.20800341665744781\n",
      "Iteration: 490, BPR loss: 0.18466652929782867\n",
      "Iteration: 500, BPR loss: 0.1990845799446106\n",
      "CPU times: total: 8min 41s\n",
      "Wall time: 15min 50s\n"
     ]
    }
   ],
   "source": [
    "%%time\n",
    "model4.fit_dds(train3, dev3, k = 20, max_iter = 500)"
   ]
  },
  {
   "cell_type": "code",
   "execution_count": 42,
   "id": "cbbb4e92",
   "metadata": {},
   "outputs": [
    {
     "name": "stdout",
     "output_type": "stream",
     "text": [
      "Precision@10: 0.10029801324503311\n",
      "Recall@10: 0.06076716286161377\n",
      "NDCG@10: 0.8010941744826243\n",
      "CPU times: total: 5.92 s\n",
      "Wall time: 18.9 s\n"
     ]
    }
   ],
   "source": [
    "%%time\n",
    "n = 10\n",
    "rec, pre, ndcg = model4.performance(test3, n)\n",
    "print(f'Precision@{n}: {pre}')\n",
    "print(f'Recall@{n}: {rec}')\n",
    "print(f'NDCG@{n}: {ndcg}')"
   ]
  }
 ],
 "metadata": {
  "kernelspec": {
   "display_name": "Python [conda env:anaconda]",
   "language": "python",
   "name": "conda-env-anaconda-py"
  },
  "language_info": {
   "codemirror_mode": {
    "name": "ipython",
    "version": 3
   },
   "file_extension": ".py",
   "mimetype": "text/x-python",
   "name": "python",
   "nbconvert_exporter": "python",
   "pygments_lexer": "ipython3",
   "version": "3.9.12"
  }
 },
 "nbformat": 4,
 "nbformat_minor": 5
}
