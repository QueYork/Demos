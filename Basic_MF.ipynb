{
 "cells": [
  {
   "cell_type": "code",
   "execution_count": 1,
   "id": "80d18fbd",
   "metadata": {},
   "outputs": [],
   "source": [
    "import pandas as pd\n",
    "import numpy as np\n",
    "import math\n",
    "from sklearn.model_selection import train_test_split"
   ]
  },
  {
   "cell_type": "markdown",
   "id": "8b77d8c0",
   "metadata": {},
   "source": [
    "Dataset foramt：uid | movie id | rating | ...\n",
    "\n",
    "Assumption:\n",
    "1. rating is int and range 1-5"
   ]
  },
  {
   "cell_type": "code",
   "execution_count": 2,
   "id": "2781b48a",
   "metadata": {},
   "outputs": [],
   "source": [
    "class ALS(object):\n",
    "    def __init__(self):\n",
    "        self.uid = None            # uid,iid without duplicates\n",
    "        self.iid = None\n",
    "        \n",
    "        self.uid_dict = None      # serialize uid and iid\n",
    "        self.iid_dict = None      #  {(original id in dataset): (serial_idx)}\n",
    "        self.uid_dict_rev = None  # reverse key and value\n",
    "        self.iid_dict_rev = None  #  {(serial_idx): (original id in dataset)}\n",
    "        \n",
    "        self.R = None             # Rating matrix\n",
    "        self.user_matrix = None\n",
    "        self.item_matrix = None\n",
    "        self.shape = None         # (# of user, # of item)\n",
    "        self.tuples = None        #  # of training set tuples\n",
    "    \n",
    "    def split(self, df, ratio = 0.8):\n",
    "        self.uid = np.array(list(set(df.iloc[:,0].values)))\n",
    "        self.iid = np.array(list(set(df.iloc[:,1].values)))\n",
    "        self.uid.sort()\n",
    "        self.iid.sort()\n",
    "        \n",
    "        self.shape = (self.uid.shape[0], self.iid.shape[0])\n",
    "        \n",
    "        self.uid_dict = dict(zip(self.uid, [i for i in range(self.shape[0])]))\n",
    "        self.iid_dict = dict(zip(self.iid, [i for i in range(self.shape[1])]))\n",
    "        self.uid_dict_rev = {v : k for k, v in self.uid_dict.items()}\n",
    "        self.iid_dict_rev = {v : k for k, v in self.iid_dict.items()}\n",
    "        \n",
    "        train = pd.DataFrame(columns = df.columns, dtype=int)\n",
    "        test = pd.DataFrame(columns = df.columns, dtype=int)\n",
    "        for i in self.uid:\n",
    "            train_1, test_1 = train_test_split(df[df.iloc[:, 0] == i], train_size = ratio)\n",
    "            train = pd.concat([train, train_1])\n",
    "            test = pd.concat([test, test_1])\n",
    "        return train, test\n",
    "    \n",
    "    def preprocessing(self, df, k):\n",
    "        self.tuples = df.shape[0]\n",
    "        \n",
    "        self.R = np.zeros((self.shape[0], self.shape[1]), dtype=int)\n",
    "        for i in range(self.tuples):\n",
    "            self.R[self.uid_dict[df.iloc[i, 0]], self.iid_dict[df.iloc[i, 1]]] = df.iloc[i, 2]\n",
    "            \n",
    "        self.user_matrix = np.random.rand(self.shape[0], k)*0.01\n",
    "        self.item_matrix = np.random.rand(self.shape[1], k)*0.01\n",
    "    \n",
    "    def get_rmse(self):\n",
    "        sum = 0\n",
    "        for u in range(self.shape[0]):\n",
    "            for i in range(self.shape[1]):\n",
    "                if self.R[u, i] != 0:\n",
    "                    sum += (self.R[u, i] - np.dot(self.user_matrix[u], self.item_matrix[i]))**2\n",
    "        return (sum/self.tuples)**0.5\n",
    "    \n",
    "    def U_update(self, df):\n",
    "        for i in range(self.shape[0]):\n",
    "            # 取出用户 i 评价过的所有物品的索引\n",
    "            items = [self.iid_dict[x] for x in df[df.iloc[:, 0]==self.uid_dict_rev[i]].iloc[:, 1].values]\n",
    "            \n",
    "            if len(items) == 0:\n",
    "                continue\n",
    "                \n",
    "            # 取出用户 i 评价过的所有物品的评分\n",
    "            r_u = df[df.iloc[:, 0]==self.uid_dict_rev[i]].iloc[:, 2].values\n",
    "            \n",
    "            # 取出 item matrix 中用户 i 评价过的所有物品的子矩阵\n",
    "            I_u = self.item_matrix[items, :]\n",
    "\n",
    "            A = np.dot(I_u.T, I_u)\n",
    "            b = np.dot(I_u.T, r_u)\n",
    "            self.user_matrix[i, :] = np.linalg.solve(A, b)\n",
    "    \n",
    "    def I_update(self, df):\n",
    "        for j in range(self.shape[1]):\n",
    "            # 取出评价物品 j 的所有用户的索引\n",
    "            users = [self.uid_dict[x] for x in df[df.iloc[:, 1] == self.iid_dict_rev[j]].iloc[:, 0].values]\n",
    "            \n",
    "            if len(users) == 0:\n",
    "                continue\n",
    "                \n",
    "            # 取出评价物品 j 的所有用户的评分\n",
    "            r_j = df[df.iloc[:, 1] == self.iid_dict_rev[j]].iloc[:, 2].values\n",
    "            \n",
    "            # 取出 user matrix 中评价物品 j 的所有用户的子矩阵\n",
    "            U_j = self.user_matrix[users, :]\n",
    "            \n",
    "            A = np.dot(U_j.T, U_j)\n",
    "            b = np.dot(U_j.T, r_j)\n",
    "            self.item_matrix[j, :] = np.linalg.solve(A, b)\n",
    "    \n",
    "    def fit(self, df, k, max_iter=50):\n",
    "        self.preprocessing(df, k)\n",
    "        \n",
    "        prev_rmse = 0\n",
    "        rmse = 0\n",
    "        for ii in range(max_iter):\n",
    "            if ii%2:\n",
    "                # update user_matrix\n",
    "                self.U_update(df)    \n",
    "            else:\n",
    "                # update item_matrix\n",
    "                self.I_update(df)\n",
    "                \n",
    "            rmse = self.get_rmse()\n",
    "            print(\"Iterations: %d, RMSE: %.6f\" % (ii + 1, rmse))\n",
    "            \n",
    "            if abs(rmse - prev_rmse) <= 10**(-2):\n",
    "                print('Converges to the defined limit.')\n",
    "                return\n",
    "            prev_rmse = rmse\n",
    "        print('Reaches the max number of iteration.')\n",
    "        \n",
    "    def predict(self, user, n):      # Top-N recommendation\n",
    "        user_dict = self.uid_dict[user]\n",
    "        top_N = []\n",
    "        \n",
    "        for i in range(self.shape[1]):\n",
    "            if self.R[user_dict, i] == 0:\n",
    "                top_N.append((self.iid_dict_rev[i], np.dot(self.user_matrix[user_dict], self.item_matrix[i])))\n",
    "                \n",
    "        return sorted(top_N, key=lambda s: s[1], reverse=True)[:n]\n",
    "    \n",
    "    def _predict(self, test_user, n):\n",
    "        top_N = []\n",
    "        \n",
    "        for i in range(test_user.shape[0]):\n",
    "            user = self.uid_dict[test_user.iloc[i, 0]]\n",
    "            item = self.iid_dict[test_user.iloc[i, 1]]\n",
    "            top_N.append((test_user.iloc[i, 1], np.dot(self.user_matrix[user], self.item_matrix[item])))\n",
    "                \n",
    "        return sorted(top_N, key=lambda s: s[1], reverse=True)[:n]\n",
    "    \n",
    "    def NDCG(self, uid, test, n):         # 用模型排序+真实分数计算 DCG, 重排后计算 iDCG\n",
    "        test_user = test[test.iloc[:, 0]==uid]\n",
    "        rating = self._predict(test_user, n)\n",
    "        irating =sorted(test_user.iloc[:, 2].values, reverse=True)\n",
    "        dcg = 0\n",
    "        idcg = 0\n",
    "        if n > len(irating): n = len(irating)  \n",
    "        for i in range(n):\n",
    "            r = test_user[test_user.iloc[:, 1]==rating[i][0]].iloc[0, 2]\n",
    "            dcg += 1.0*(2**r - 1)/math.log(i + 2, 2)\n",
    "            idcg += 1.0*(2**irating[i] - 1)/math.log(i + 2, 2)\n",
    "        return dcg/idcg\n",
    "    \n",
    "    def performance(self, test, n):      # Output recall@n, precision@n, NDCG@n\n",
    "        hit = 0\n",
    "        n_recall = 0\n",
    "        n_precision = 0\n",
    "        ndcg = 0\n",
    "        for i in self.uid:\n",
    "            test_rating = test[test.iloc[:, 0]==i]\n",
    "            test_rating = test_rating[test_rating.iloc[:, 1] >= 3]\n",
    "            #用户 i 喜爱的 item 集合，定义评分 >= 3 为喜爱\n",
    "            tu = test_rating.iloc[:, 1].values\n",
    "            #预测用户 i 的 top-N\n",
    "            ru = self._predict(test[test.iloc[:, 0]==i], n)\n",
    "            for item ,pui in ru:\n",
    "                if item in tu:\n",
    "                    hit += 1\n",
    "            n_recall += len(tu)\n",
    "            n_precision += n\n",
    "            ndcg += self.NDCG(i, test, n)  \n",
    "        recall = hit / (1.0 * n_recall)\n",
    "        precision = hit / (1.0 * n_precision)\n",
    "        ndcg /= self.shape[0]\n",
    "        return recall, precision, ndcg"
   ]
  },
  {
   "cell_type": "code",
   "execution_count": 3,
   "id": "1888a624",
   "metadata": {
    "scrolled": false
   },
   "outputs": [],
   "source": [
    "train_100k = pd.read_csv(\"./ml-100k/u.data\", sep=\"\\t\", names=['user id', 'item id', 'rating', 'timestamp'])\n",
    "train_1m = pd.read_csv(\"./ml-1m/ratings.dat\", sep=\"::\", names=['user id', 'item id', 'rating', 'timestamp'], engine='python')"
   ]
  },
  {
   "cell_type": "code",
   "execution_count": 4,
   "id": "04b7a246",
   "metadata": {
    "scrolled": false
   },
   "outputs": [
    {
     "name": "stdout",
     "output_type": "stream",
     "text": [
      "(79619, 4)\n",
      "(20381, 4)\n"
     ]
    }
   ],
   "source": [
    "model_100k = ALS()\n",
    "train, test = model_100k.split(train_100k)\n",
    "print(train.shape)\n",
    "print(test.shape)"
   ]
  },
  {
   "cell_type": "code",
   "execution_count": 5,
   "id": "722b00d1",
   "metadata": {},
   "outputs": [
    {
     "name": "stdout",
     "output_type": "stream",
     "text": [
      "Iterations: 1, RMSE: 0.761503\n",
      "Iterations: 2, RMSE: 0.562882\n",
      "Iterations: 3, RMSE: 0.520485\n",
      "Iterations: 4, RMSE: 0.494164\n",
      "Iterations: 5, RMSE: 0.476349\n",
      "Iterations: 6, RMSE: 0.461983\n",
      "Iterations: 7, RMSE: 0.451246\n",
      "Iterations: 8, RMSE: 0.441214\n",
      "Iterations: 9, RMSE: 0.433021\n",
      "Converges to the defined limit.\n"
     ]
    }
   ],
   "source": [
    "model_100k.fit(train, 40)"
   ]
  },
  {
   "cell_type": "code",
   "execution_count": 10,
   "id": "555f488d",
   "metadata": {},
   "outputs": [
    {
     "name": "stdout",
     "output_type": "stream",
     "text": [
      "Precision@10: 0.8573700954400848\n",
      "Recall@10: 0.39894404421198065\n",
      "NDCG@10: 0.695507645646776\n"
     ]
    }
   ],
   "source": [
    "k = 10\n",
    "rec, pre, ndcg = model_100k.performance(test, k)\n",
    "print(f'Precision@{k}: {pre}')\n",
    "print(f'Recall@{k}: {rec}')\n",
    "print(f'NDCG@{k}: {ndcg}')"
   ]
  },
  {
   "cell_type": "code",
   "execution_count": 7,
   "id": "0311279b",
   "metadata": {},
   "outputs": [
    {
     "name": "stdout",
     "output_type": "stream",
     "text": [
      "(797758, 4)\n",
      "(202451, 4)\n"
     ]
    }
   ],
   "source": [
    "model_1m = ALS()\n",
    "train1, test1 = model_1m.split(train_1m)\n",
    "print(train1.shape)\n",
    "print(test1.shape)"
   ]
  },
  {
   "cell_type": "code",
   "execution_count": 8,
   "id": "3fa93271",
   "metadata": {},
   "outputs": [
    {
     "name": "stdout",
     "output_type": "stream",
     "text": [
      "Iterations: 1, RMSE: 1.071125\n",
      "Iterations: 2, RMSE: 0.822210\n",
      "Iterations: 3, RMSE: 0.800818\n",
      "Iterations: 4, RMSE: 0.783098\n",
      "Iterations: 5, RMSE: 0.772150\n",
      "Iterations: 6, RMSE: 0.762730\n",
      "Converges to the defined limit.\n"
     ]
    }
   ],
   "source": [
    "model_1m.fit(train1, 15)"
   ]
  },
  {
   "cell_type": "code",
   "execution_count": 11,
   "id": "46f22aad",
   "metadata": {},
   "outputs": [
    {
     "name": "stdout",
     "output_type": "stream",
     "text": [
      "Precision@10: 0.906523178807947\n",
      "Recall@10: 0.2712164966837228\n",
      "NDCG@10: 0.7590511233487202\n"
     ]
    }
   ],
   "source": [
    "k = 10\n",
    "rec, pre, ndcg = model_1m.performance(test1, k)\n",
    "print(f'Precision@{k}: {pre}')\n",
    "print(f'Recall@{k}: {rec}')\n",
    "print(f'NDCG@{k}: {ndcg}')"
   ]
  }
 ],
 "metadata": {
  "kernelspec": {
   "display_name": "Python 3 (ipykernel)",
   "language": "python",
   "name": "python3"
  },
  "language_info": {
   "codemirror_mode": {
    "name": "ipython",
    "version": 3
   },
   "file_extension": ".py",
   "mimetype": "text/x-python",
   "name": "python",
   "nbconvert_exporter": "python",
   "pygments_lexer": "ipython3",
   "version": "3.10.9"
  }
 },
 "nbformat": 4,
 "nbformat_minor": 5
}
